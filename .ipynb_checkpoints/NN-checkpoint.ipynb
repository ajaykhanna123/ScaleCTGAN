{
 "cells": [
  {
   "cell_type": "code",
   "execution_count": 1,
   "id": "231686e8",
   "metadata": {},
   "outputs": [
    {
     "name": "stdout",
     "output_type": "stream",
     "text": [
      "Collecting numpy==1.18.2\n",
      "  Downloading numpy-1.18.2-cp37-cp37m-win_amd64.whl (12.8 MB)\n",
      "     --------------------------------------- 12.8/12.8 MB 21.1 MB/s eta 0:00:00\n",
      "Installing collected packages: numpy\n",
      "Successfully installed numpy-1.18.2\n",
      "Note: you may need to restart the kernel to use updated packages.\n"
     ]
    },
    {
     "name": "stderr",
     "output_type": "stream",
     "text": [
      "  WARNING: The script f2py.exe is installed in 'C:\\Users\\Ajay\\anaconda3\\envs\\python37\\Scripts' which is not on PATH.\n",
      "  Consider adding this directory to PATH or, if you prefer to suppress this warning, use --no-warn-script-location.\n"
     ]
    }
   ],
   "source": [
    "pip install numpy==1.18.2"
   ]
  },
  {
   "cell_type": "code",
   "execution_count": 2,
   "id": "2b209e9a",
   "metadata": {},
   "outputs": [
    {
     "name": "stdout",
     "output_type": "stream",
     "text": [
      "Collecting matplotlib==3.2.1\n",
      "  Downloading matplotlib-3.2.1-cp37-cp37m-win_amd64.whl (9.2 MB)\n",
      "     ---------------------------------------- 9.2/9.2 MB 23.6 MB/s eta 0:00:00\n",
      "Requirement already satisfied: numpy>=1.11 in c:\\users\\ajay\\anaconda3\\envs\\python37\\lib\\site-packages (from matplotlib==3.2.1) (1.18.2)\n",
      "Requirement already satisfied: python-dateutil>=2.1 in c:\\users\\ajay\\anaconda3\\envs\\python37\\lib\\site-packages (from matplotlib==3.2.1) (2.8.2)\n",
      "Collecting cycler>=0.10\n",
      "  Using cached cycler-0.11.0-py3-none-any.whl (6.4 kB)\n",
      "Collecting pyparsing!=2.0.4,!=2.1.2,!=2.1.6,>=2.0.1\n",
      "  Using cached pyparsing-3.0.9-py3-none-any.whl (98 kB)\n",
      "Collecting kiwisolver>=1.0.1\n",
      "  Using cached kiwisolver-1.4.4-cp37-cp37m-win_amd64.whl (54 kB)\n",
      "Collecting typing-extensions\n",
      "  Using cached typing_extensions-4.5.0-py3-none-any.whl (27 kB)\n",
      "Requirement already satisfied: six>=1.5 in c:\\users\\ajay\\anaconda3\\envs\\python37\\lib\\site-packages (from python-dateutil>=2.1->matplotlib==3.2.1) (1.16.0)\n",
      "Installing collected packages: typing-extensions, pyparsing, cycler, kiwisolver, matplotlib\n",
      "Successfully installed cycler-0.11.0 kiwisolver-1.4.4 matplotlib-3.2.1 pyparsing-3.0.9 typing-extensions-4.5.0\n",
      "Note: you may need to restart the kernel to use updated packages.\n"
     ]
    }
   ],
   "source": [
    "pip install matplotlib==3.2.1"
   ]
  },
  {
   "cell_type": "code",
   "execution_count": 1,
   "id": "1ee8d69c",
   "metadata": {},
   "outputs": [],
   "source": [
    "inputs=[1,2,3,2.5]\n",
    "weights=[[0.2,0.8,-0.5,1.0],[0.5,-0.91,0.26,-0.5],[-0.26,-0.27,0.17,0.87]]"
   ]
  },
  {
   "cell_type": "code",
   "execution_count": 2,
   "id": "7264d3c2",
   "metadata": {},
   "outputs": [],
   "source": [
    "biases=[2,3,0.5]"
   ]
  },
  {
   "cell_type": "code",
   "execution_count": 3,
   "id": "947487f0",
   "metadata": {},
   "outputs": [
    {
     "name": "stdout",
     "output_type": "stream",
     "text": [
      "[0.2, 0.8, -0.5, 1.0] 2\n",
      "[0.5, -0.91, 0.26, -0.5] 3\n",
      "[-0.26, -0.27, 0.17, 0.87] 0.5\n"
     ]
    }
   ],
   "source": [
    "layers_output=[]\n",
    "\n",
    "for neuron_weights,neuron_biases in zip(weights,biases):\n",
    "    neuron_output=0\n",
    "    for n_input,weight in zip(inputs,neuron_weights):\n",
    "        neuron_output=             \n",
    "    print(neuron_weights,neuron_biases)"
   ]
  },
  {
   "cell_type": "code",
   "execution_count": null,
   "id": "b987ab0d",
   "metadata": {},
   "outputs": [],
   "source": []
  }
 ],
 "metadata": {
  "kernelspec": {
   "display_name": "python37",
   "language": "python",
   "name": "python37"
  },
  "language_info": {
   "codemirror_mode": {
    "name": "ipython",
    "version": 3
   },
   "file_extension": ".py",
   "mimetype": "text/x-python",
   "name": "python",
   "nbconvert_exporter": "python",
   "pygments_lexer": "ipython3",
   "version": "3.7.16"
  }
 },
 "nbformat": 4,
 "nbformat_minor": 5
}
